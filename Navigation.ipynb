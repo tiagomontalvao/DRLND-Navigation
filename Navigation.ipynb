{
 "cells": [
  {
   "cell_type": "markdown",
   "metadata": {},
   "source": [
    "# Banana Navigation using DQN\n",
    "\n",
    "---\n",
    "\n",
    "This notebook builds and trains a DQN agent locally to solve the Banana Navigation problem, using the Unity ML-Agents environment for the first project of the [Deep Reinforcement Learning Nanodegree](https://www.udacity.com/course/deep-reinforcement-learning-nanodegree--nd893)."
   ]
  },
  {
   "cell_type": "markdown",
   "metadata": {},
   "source": [
    "### 1. Start the Environment\n",
    "\n",
    "First, we must build the required environment. The instructions to do so are shown here: https://github.com/udacity/deep-reinforcement-learning#dependencies\n",
    "\n",
    "I had to also update PyTorch version, as I had some issues locally when calling `.to(device)` on PyTorch tensors. Also, as I am training in a computer with an NVIDIA GPU (RTX 2070), I installed CUDA Toolkit. I also installed [PyTorch Summary](https://github.com/sksq96/pytorch-summary) to visualize the model:\n",
    "```\n",
    "> conda install pytorch cudatoolkit=10.2 -c pytorch\n",
    "> pip install torchsummary\n",
    "```\n"
   ]
  },
  {
   "cell_type": "markdown",
   "metadata": {},
   "source": [
    "After setting up the environment, we begin by importing some necessary packages:"
   ]
  },
  {
   "cell_type": "code",
   "execution_count": 1,
   "metadata": {},
   "outputs": [],
   "source": [
    "from collections import deque\n",
    "from torchsummary import summary\n",
    "from unityagents import UnityEnvironment\n",
    "import matplotlib.pyplot as plt\n",
    "import numpy as np\n",
    "import pandas as pd\n",
    "import torch\n",
    "\n",
    "# DQN agent to be trained\n",
    "from dqn_agent import Agent"
   ]
  },
  {
   "cell_type": "markdown",
   "metadata": {},
   "source": [
    "Next, we will start the environment! The UnityEnvironment file can be downloaded in the following links and is not uploaded to this repository.\n",
    "\n",
    "- Linux: [click here](https://s3-us-west-1.amazonaws.com/udacity-drlnd/P1/Banana/Banana_Linux.zip)\n",
    "- Mac OSX: [click here](https://s3-us-west-1.amazonaws.com/udacity-drlnd/P1/Banana/Banana.app.zip)\n",
    "- Windows (32-bit): [click here](https://s3-us-west-1.amazonaws.com/udacity-drlnd/P1/Banana/Banana_Windows_x86.zip)\n",
    "- Windows (64-bit): [click here](https://s3-us-west-1.amazonaws.com/udacity-drlnd/P1/Banana/Banana_Windows_x86_64.zip)\n",
    "\n",
    "In this project, I am working on an Ubuntu 20.04 64 bits, so I installed the Linux version and used the Banana.x86_64 file."
   ]
  },
  {
   "cell_type": "code",
   "execution_count": 2,
   "metadata": {
    "scrolled": false
   },
   "outputs": [
    {
     "name": "stderr",
     "output_type": "stream",
     "text": [
      "INFO:unityagents:\n",
      "'Academy' started successfully!\n",
      "Unity Academy name: Academy\n",
      "        Number of Brains: 1\n",
      "        Number of External Brains : 1\n",
      "        Lesson number : 0\n",
      "        Reset Parameters :\n",
      "\t\t\n",
      "Unity brain name: BananaBrain\n",
      "        Number of Visual Observations (per agent): 0\n",
      "        Vector Observation space type: continuous\n",
      "        Vector Observation space size (per agent): 37\n",
      "        Number of stacked Vector Observation: 1\n",
      "        Vector Action space type: discrete\n",
      "        Vector Action space size (per agent): 4\n",
      "        Vector Action descriptions: , , , \n"
     ]
    }
   ],
   "source": [
    "env = UnityEnvironment(file_name=\"Banana_Linux/Banana.x86_64\")"
   ]
  },
  {
   "cell_type": "markdown",
   "metadata": {},
   "source": [
    "Environments contain **_brains_** which are responsible for deciding the actions of their associated agents. Here we check for the first brain available, and set it as the default brain we will be controlling from Python."
   ]
  },
  {
   "cell_type": "code",
   "execution_count": 3,
   "metadata": {},
   "outputs": [],
   "source": [
    "# get the default brain\n",
    "brain_name = env.brain_names[0]\n",
    "brain = env.brains[brain_name]"
   ]
  },
  {
   "cell_type": "markdown",
   "metadata": {},
   "source": [
    "### 2. Examine the State and Action Spaces\n",
    "\n",
    "The simulation contains a single agent that navigates a large environment.  At each time step, it has four actions at its disposal:\n",
    "- `0` - walk forward \n",
    "- `1` - walk backward\n",
    "- `2` - turn left\n",
    "- `3` - turn right\n",
    "\n",
    "The state space has `37` dimensions and contains the agent's velocity, along with ray-based perception of objects around agent's forward direction.  A reward of `+1` is provided for collecting a yellow banana, and a reward of `-1` is provided for collecting a blue banana. \n",
    "\n",
    "Run the code cell below to print some information about the environment."
   ]
  },
  {
   "cell_type": "code",
   "execution_count": 4,
   "metadata": {},
   "outputs": [
    {
     "name": "stdout",
     "output_type": "stream",
     "text": [
      "Number of agents: 1\n",
      "Number of actions: 4\n",
      "States look like: [1.         0.         0.         0.         0.84408134 0.\n",
      " 0.         1.         0.         0.0748472  0.         1.\n",
      " 0.         0.         0.25755    1.         0.         0.\n",
      " 0.         0.74177343 0.         1.         0.         0.\n",
      " 0.25854847 0.         0.         1.         0.         0.09355672\n",
      " 0.         1.         0.         0.         0.31969345 0.\n",
      " 0.        ]\n",
      "States have length: 37\n"
     ]
    }
   ],
   "source": [
    "# reset the environment\n",
    "env_info = env.reset(train_mode=True)[brain_name]\n",
    "\n",
    "# number of agents in the environment\n",
    "print('Number of agents:', len(env_info.agents))\n",
    "\n",
    "# number of actions\n",
    "action_size = brain.vector_action_space_size\n",
    "print('Number of actions:', action_size)\n",
    "\n",
    "# examine the state space \n",
    "state = env_info.vector_observations[0]\n",
    "print('States look like:', state)\n",
    "state_size = len(state)\n",
    "print('States have length:', state_size)"
   ]
  },
  {
   "cell_type": "markdown",
   "metadata": {},
   "source": [
    "### 3. Take Random Actions in the Environment\n",
    "\n",
    "The next cell shows how to use the Python API to control the agent and receive feedback from the environment.\n",
    "\n",
    "Once this cell is executed, you will watch the agent's performance, if it selects an action (uniformly) at random with each time step.  A window should pop up that allows you to observe the agent, as it moves through the environment.  "
   ]
  },
  {
   "cell_type": "code",
   "execution_count": 5,
   "metadata": {},
   "outputs": [
    {
     "name": "stdout",
     "output_type": "stream",
     "text": [
      "Score: 0.0\n"
     ]
    }
   ],
   "source": [
    "env_info = env.reset(train_mode=True)[brain_name] # reset the environment\n",
    "state = env_info.vector_observations[0]            # get the current state\n",
    "score = 0                                          # initialize the score\n",
    "while True:\n",
    "    action = np.random.randint(action_size)        # select an action\n",
    "    env_info = env.step(action)[brain_name]        # send the action to the environment\n",
    "    next_state = env_info.vector_observations[0]   # get the next state\n",
    "    reward = env_info.rewards[0]                   # get the reward\n",
    "    done = env_info.local_done[0]                  # see if episode has finished\n",
    "    score += reward                                # update the score\n",
    "    state = next_state                             # roll over the state to next time step\n",
    "    if done:                                       # exit loop if episode finished\n",
    "        break\n",
    "    \n",
    "print(\"Score: {}\".format(score))"
   ]
  },
  {
   "cell_type": "markdown",
   "metadata": {},
   "source": [
    "### 4. Training DQN Agent\n",
    "\n",
    "When training the environment, set `train_mode=True`, so that the line for resetting the environment looks like the following:\n",
    "```python\n",
    "env_info = env.reset(train_mode=True)[brain_name]\n",
    "```"
   ]
  },
  {
   "cell_type": "code",
   "execution_count": 6,
   "metadata": {},
   "outputs": [],
   "source": [
    "def run_episode(agent, train_mode=False, eps=0.01, if_train_then_step=True):\n",
    "    \"\"\"Runs a single episode of the environment.\n",
    "\n",
    "    Params\n",
    "    ======\n",
    "        agent (Agent): agent object to be trained\n",
    "        train_mode (bool): train_mode to be passed to the environment\n",
    "        eps (float): epsilon value to be used in epsilon-greedy approach by the agent\n",
    "        if_train_then_step (bool): indicates if agent should be trained when train_mode=True\n",
    "    \"\"\"    \n",
    "    env_info = env.reset(train_mode=train_mode)[brain_name] # reset the environment\n",
    "    state = env_info.vector_observations[0]            # get the current state\n",
    "    score = 0                                          # initialize the score\n",
    "    while True:\n",
    "        action = agent.act(state, eps)                 # select an action\n",
    "        env_info = env.step(action)[brain_name]        # send the action to the environment\n",
    "        next_state = env_info.vector_observations[0]   # get the next state\n",
    "        reward = env_info.rewards[0]                   # get the reward\n",
    "        done = env_info.local_done[0]                  # see if episode has finished\n",
    "        score += reward                                # update the score\n",
    "        if train_mode and if_train_then_step:\n",
    "            agent.step(state, action, reward, next_state, done) # step in the agent model\n",
    "        state = next_state                             # roll over the state to next time step\n",
    "        if done:                                       # exit loop if episode finished\n",
    "            break\n",
    "    return score"
   ]
  },
  {
   "cell_type": "code",
   "execution_count": 7,
   "metadata": {},
   "outputs": [],
   "source": [
    "def dqn(agent, n_episodes=2000, eps_start=1.0, eps_end=0.01,\n",
    "        eps_decay=0.9977, checkpoint_each=500, print_each=100,\n",
    "        solve_window_size=100, solve_score=13, scale_eps=True):\n",
    "    \"\"\"Trains a DQN agent.\n",
    "\n",
    "    Params\n",
    "    ======\n",
    "        agent (Agent): agent object to be trained\n",
    "        n_episodes (int): number of episodes\n",
    "        eps_start (float): initial epsilon value\n",
    "        eps_end (float): minimum epsilon value\n",
    "        eps_decay (float): epsilon multiplier after each episode\n",
    "        checkpoint_each (int): number of episodes to skip before checkpointing model \n",
    "        print_each (int): number of episodes to skip before printing current score\n",
    "        solve_window_size (int): number of consecutive episodes to consider the environment solved\n",
    "        solve_score (int): minimum average score to reach after solve_window_size\n",
    "        scale_eps (bool): indicates if eps_decay should be scaled so that\n",
    "                          last ~20% last epsilon values get equal to eps_end\n",
    "    \"\"\"\n",
    "    if scale_eps:\n",
    "        eps_decay = 0.9977**(2500/n_episodes)\n",
    "        \n",
    "    eps = eps_start\n",
    "    scores = []\n",
    "    scores_window = deque(maxlen=solve_window_size)\n",
    "    \n",
    "    for i in range(1, n_episodes+1):\n",
    "        score = run_episode(agent, train_mode=True, eps=eps)\n",
    "        scores.append(score)\n",
    "        scores_window.append(score)\n",
    "        eps = max(eps_end, eps_decay*eps)\n",
    "        avg_score = np.mean(scores_window)\n",
    "        if i%print_each == 0 or avg_score >= solve_score:\n",
    "            print(\"[{:4d}/{:4d}]  |  \"\n",
    "                  \"Score: {:+3.0f}  |  \"\n",
    "                  \"Avg. Score: {:+6.2f}  |  \"\n",
    "                  \"epsilon: {:.3f}\".format(i, n_episodes, score, avg_score, eps)\n",
    "            )\n",
    "        if i%checkpoint_each == 0:\n",
    "            torch.save(agent.qnetwork_local.state_dict(), 'checkpoint.pt')\n",
    "            print('Checkpoint saved!')\n",
    "        if avg_score >= solve_score:\n",
    "            print('Environment solved in {} episodes!'.format(i))\n",
    "            break\n",
    "            \n",
    "    # save model after all episodes\n",
    "    torch.save(agent.qnetwork_local.state_dict(), 'model.pt')\n",
    "    print('Model saved!')\n",
    "    \n",
    "    if np.mean(scores_window) < solve_score:\n",
    "        print('Agent could not solve the environment in {} episodes'.format(n_episodes))\n",
    "        \n",
    "    return scores"
   ]
  },
  {
   "cell_type": "markdown",
   "metadata": {},
   "source": [
    "Create agent and display its network architecture (both local and target networks have the same architecture):"
   ]
  },
  {
   "cell_type": "code",
   "execution_count": 8,
   "metadata": {},
   "outputs": [
    {
     "name": "stdout",
     "output_type": "stream",
     "text": [
      "Agent network architecture:\n",
      "----------------------------------------------------------------\n",
      "        Layer (type)               Output Shape         Param #\n",
      "================================================================\n",
      "            Linear-1                   [-1, 64]           2,432\n",
      "       BatchNorm1d-2                   [-1, 64]             128\n",
      "             PReLU-3                   [-1, 64]               1\n",
      "            Linear-4                   [-1, 64]           4,160\n",
      "       BatchNorm1d-5                   [-1, 64]             128\n",
      "             PReLU-6                   [-1, 64]               1\n",
      "            Linear-7                    [-1, 4]             260\n",
      "================================================================\n",
      "Total params: 7,110\n",
      "Trainable params: 7,110\n",
      "Non-trainable params: 0\n",
      "----------------------------------------------------------------\n",
      "Input size (MB): 0.00\n",
      "Forward/backward pass size (MB): 0.00\n",
      "Params size (MB): 0.03\n",
      "Estimated Total Size (MB): 0.03\n",
      "----------------------------------------------------------------\n"
     ]
    }
   ],
   "source": [
    "agent = Agent(state_size=state_size, action_size=action_size, seed=0)\n",
    "print('Agent network architecture:')\n",
    "summary(agent.qnetwork_local, (state_size,))"
   ]
  },
  {
   "cell_type": "code",
   "execution_count": 9,
   "metadata": {},
   "outputs": [],
   "source": [
    "all_scores = []"
   ]
  },
  {
   "cell_type": "code",
   "execution_count": 10,
   "metadata": {
    "scrolled": true
   },
   "outputs": [
    {
     "name": "stdout",
     "output_type": "stream",
     "text": [
      "[ 100/2000]  |  Score:  +2  |  Avg. Score:  +0.12  |  epsilon: 0.750\n",
      "[ 200/2000]  |  Score:  +3  |  Avg. Score:  +1.71  |  epsilon: 0.562\n",
      "[ 300/2000]  |  Score:  +3  |  Avg. Score:  +4.05  |  epsilon: 0.422\n",
      "[ 400/2000]  |  Score:  +7  |  Avg. Score:  +5.96  |  epsilon: 0.316\n",
      "[ 500/2000]  |  Score:  +5  |  Avg. Score:  +8.35  |  epsilon: 0.237\n",
      "Checkpoint saved!\n",
      "[ 600/2000]  |  Score: +10  |  Avg. Score: +10.06  |  epsilon: 0.178\n",
      "[ 700/2000]  |  Score:  +7  |  Avg. Score: +11.76  |  epsilon: 0.133\n",
      "[ 800/2000]  |  Score: +16  |  Avg. Score: +12.89  |  epsilon: 0.100\n",
      "[ 848/2000]  |  Score: +17  |  Avg. Score: +13.06  |  epsilon: 0.087\n",
      "Environment solved in 848 episodes!\n",
      "Model saved!\n",
      "CPU times: user 20min 39s, sys: 1min 9s, total: 21min 49s\n",
      "Wall time: 31min 57s\n"
     ]
    }
   ],
   "source": [
    "%%time\n",
    "scores = dqn(agent)\n",
    "all_scores += scores"
   ]
  },
  {
   "cell_type": "markdown",
   "metadata": {},
   "source": [
    "Visualize scores during training process:"
   ]
  },
  {
   "cell_type": "code",
   "execution_count": 11,
   "metadata": {
    "scrolled": true
   },
   "outputs": [
    {
     "data": {
      "image/png": "[encoded data removed]",
      "text/plain": [
       "<Figure size 1080x360 with 1 Axes>"
      ]
     },
     "metadata": {
      "needs_background": "light"
     },
     "output_type": "display_data"
    }
   ],
   "source": [
    "fig, ax = plt.subplots(figsize=(15, 5))\n",
    "ax.plot(all_scores, label='Score')\n",
    "pd.Series(all_scores).rolling(100, 1).mean().plot(ax=ax, label='MA(100)')\n",
    "ax.axhline(13, ls='--', lw=1, c='red')\n",
    "ax.set_xlabel('Episode #')\n",
    "plt.yticks(list(plt.yticks()[0]) + [13])\n",
    "ax.legend(loc='upper left');"
   ]
  },
  {
   "cell_type": "markdown",
   "metadata": {},
   "source": [
    "### 5. Loading and executing DQN Agent\n",
    "\n",
    "As the model weights are saved, we can load them into a new agent."
   ]
  },
  {
   "cell_type": "code",
   "execution_count": 12,
   "metadata": {
    "scrolled": true
   },
   "outputs": [
    {
     "data": {
      "text/plain": [
       "<All keys matched successfully>"
      ]
     },
     "execution_count": 12,
     "metadata": {},
     "output_type": "execute_result"
    }
   ],
   "source": [
    "trained_agent = Agent(state_size=state_size, action_size=action_size, seed=0)\n",
    "trained_agent.qnetwork_local.load_state_dict(torch.load('model.pt'))"
   ]
  },
  {
   "cell_type": "code",
   "execution_count": 13,
   "metadata": {},
   "outputs": [
    {
     "data": {
      "text/plain": [
       "15.0"
      ]
     },
     "execution_count": 13,
     "metadata": {},
     "output_type": "execute_result"
    }
   ],
   "source": [
    "run_episode(trained_agent)"
   ]
  },
  {
   "cell_type": "markdown",
   "metadata": {},
   "source": [
    "When finished, you can close the environment."
   ]
  },
  {
   "cell_type": "code",
   "execution_count": 14,
   "metadata": {},
   "outputs": [],
   "source": [
    "env.close()"
   ]
  }
 ],
 "metadata": {
  "kernelspec": {
   "display_name": "drlnd",
   "language": "python",
   "name": "drlnd"
  },
  "language_info": {
   "codemirror_mode": {
    "name": "ipython",
    "version": 3
   },
   "file_extension": ".py",
   "mimetype": "text/x-python",
   "name": "python",
   "nbconvert_exporter": "python",
   "pygments_lexer": "ipython3",
   "version": "3.6.10"
  }
 },
 "nbformat": 4,
 "nbformat_minor": 4
}
